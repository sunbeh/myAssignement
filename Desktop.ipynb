{
 "cells": [
  {
   "cell_type": "markdown",
   "id": "fe0db818",
   "metadata": {},
   "source": [
    "# Data Science Tools and Ecosystem"
   ]
  },
  {
   "cell_type": "markdown",
   "id": "a73e5bb9",
   "metadata": {},
   "source": [
    "In this notebook, Data Science Tools and Ecosystem are summarized."
   ]
  },
  {
   "cell_type": "markdown",
   "id": "aa8952d7",
   "metadata": {},
   "source": [
    "**Objectives:**\n",
    "- Popular languages in data science\n",
    "- Commonly used libraries in data science \n",
    "- Data science tool "
   ]
  },
  {
   "cell_type": "markdown",
   "id": "88ab4155",
   "metadata": {},
   "source": [
    "Some of the popular languages that Data Scientists use are:\n",
    "1. Python\n",
    "2. R\n",
    "3. SQL"
   ]
  },
  {
   "cell_type": "markdown",
   "id": "3c0e0050",
   "metadata": {},
   "source": [
    "Some of the commonly used libraries used by Data Scientists include:\n",
    "- Pandas\n",
    "- Keras\n",
    "- SciPy "
   ]
  },
  {
   "cell_type": "markdown",
   "id": "10b3af05",
   "metadata": {},
   "source": [
    "|Data Science Tools |\n",
    "|-----|\n",
    "|Rstudio|\n",
    "|Jupyter Notebook|\n",
    "|GitHub|"
   ]
  },
  {
   "cell_type": "markdown",
   "id": "186fc3f3",
   "metadata": {},
   "source": [
    "### Below are a few examples of evaluating arithmetic expressions in Python."
   ]
  },
  {
   "cell_type": "code",
   "execution_count": 1,
   "id": "6de026cf",
   "metadata": {},
   "outputs": [
    {
     "data": {
      "text/plain": [
       "17"
      ]
     },
     "execution_count": 1,
     "metadata": {},
     "output_type": "execute_result"
    }
   ],
   "source": [
    "#This a simple arithmetic expression to mutiply then add integers\n",
    "(3*4)+5"
   ]
  },
  {
   "cell_type": "code",
   "execution_count": 2,
   "id": "38365108",
   "metadata": {},
   "outputs": [
    {
     "name": "stdout",
     "output_type": "stream",
     "text": [
      "200 minutes is equal to 3.33 hours.\n"
     ]
    }
   ],
   "source": [
    "#This will convert 200 minutes to hours by diving by 60.\n",
    "def convert_minutes_to_hours(minutes):\n",
    "    hours = minutes / 60\n",
    "    return hours\n",
    "\n",
    "# Test the function\n",
    "minutes_input = 200\n",
    "hours_output = convert_minutes_to_hours(minutes_input)\n",
    "print(f\"{minutes_input} minutes is equal to {hours_output:.2f} hours.\")\n"
   ]
  },
  {
   "cell_type": "markdown",
   "id": "a99ed6e0",
   "metadata": {},
   "source": [
    "## Author "
   ]
  },
  {
   "cell_type": "markdown",
   "id": "001097c2",
   "metadata": {},
   "source": [
    "Saniya Behzadpour"
   ]
  },
  {
   "cell_type": "code",
   "execution_count": null,
   "id": "a6dd6bbe",
   "metadata": {},
   "outputs": [],
   "source": []
  }
 ],
 "metadata": {
  "kernelspec": {
   "display_name": "Python 3 (ipykernel)",
   "language": "python",
   "name": "python3"
  },
  "language_info": {
   "codemirror_mode": {
    "name": "ipython",
    "version": 3
   },
   "file_extension": ".py",
   "mimetype": "text/x-python",
   "name": "python",
   "nbconvert_exporter": "python",
   "pygments_lexer": "ipython3",
   "version": "3.8.5"
  }
 },
 "nbformat": 4,
 "nbformat_minor": 5
}
